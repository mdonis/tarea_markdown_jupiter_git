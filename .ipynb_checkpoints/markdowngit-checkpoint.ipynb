{
 "cells": [
  {
   "cell_type": "markdown",
   "metadata": {},
   "source": [
    "# Ensayo sobre el control de versiones en Git - Tarea -  \n",
    "## *Utilizando sintaxis Markdown*"
   ]
  },
  {
   "cell_type": "markdown",
   "metadata": {},
   "source": [
    "##### Los comandos básicos utilizados en Git son los siguientes  \n",
    "* git help **\\<command>**: get help for a git command\n",
    "- git init: creates a new git repo, with data stored in the .git directory\n",
    "- git status: tells you what’s going on\n",
    "- git add **\\<filename>**: adds files to staging area\n",
    "- git commit: creates a new commit\n",
    " +  Write good commit messages!\n",
    " +  Even more reasons to write good commit messages!\n",
    "- git log: shows a flattened log of history\n",
    "- git log --all --graph --decorate: visualizes history as a DAG\n",
    "- git diff **\\<filename>**: show changes you made relative to the staging area\n",
    "- git diff **\\<revision>** **\\<filename>**: shows differences in a file between snapshots\n",
    "- git checkout **\\<revision>**: updates HEAD and current branch"
   ]
  },
  {
   "cell_type": "code",
   "execution_count": 2,
   "metadata": {},
   "outputs": [
    {
     "name": "stdout",
     "output_type": "stream",
     "text": [
      "Microsoft Windows [Versión 10.0.18362.295]\n",
      "(c) 2019 Microsoft Corporation. Todos los derechos reservados.\n",
      "\n",
      "(base) C:\\Users\\mdonis\\Documents\\Maestría Data Science\\Ciencia de Datos en Python\\lec2\\tarea_markdown_jupiter_git>git reflog\n",
      "2a36797 HEAD@{0}: reset: moving to HEAD\n",
      "2a36797 HEAD@{1}: checkout: moving from main to main\n",
      "2a36797 HEAD@{2}: commit: Update markdowngit.ipynb\n",
      "ea3b7a5 HEAD@{3}: reset: moving to HEAD\n",
      "ea3b7a5 HEAD@{4}: checkout: moving from main to main\n",
      "ea3b7a5 HEAD@{5}: reset: moving to HEAD\n",
      "ea3b7a5 HEAD@{6}: reset: moving to HEAD\n",
      "ea3b7a5 HEAD@{7}: checkout: moving from main to main\n",
      "ea3b7a5 HEAD@{8}: checkout: moving from main to main\n",
      "ea3b7a5 HEAD@{9}: checkout: moving from main to main\n",
      "ea3b7a5 HEAD@{10}: checkout: moving from main to main\n",
      "ea3b7a5 HEAD@{11}: checkout: moving from main to main\n",
      "ea3b7a5 HEAD@{12}: checkout: moving from main to main\n",
      "ea3b7a5 HEAD@{13}: checkout: moving from main to main\n",
      "ea3b7a5 HEAD@{14}: checkout: moving from main to main\n",
      "ea3b7a5 HEAD@{15}: reset: moving to HEAD\n",
      "ea3b7a5 HEAD@{16}: reset: moving to HEAD\n",
      "ea3b7a5 HEAD@{17}: commit: Update markdowngit-checkpoint.ipynb\n",
      "cad2d6f HEAD@{18}: commit: Update markdowngit.ipynb\n",
      "b2081b1 HEAD@{19}: reset: moving to HEAD\n",
      "b2081b1 HEAD@{20}: reset: moving to HEAD\n",
      "b2081b1 HEAD@{21}: pull --progress origin: Merge made by the 'recursive' strategy.\n",
      "1db831c HEAD@{22}: reset: moving to HEAD\n",
      "1db831c HEAD@{23}: reset: moving to HEAD\n",
      "1db831c HEAD@{24}: commit: Delete practicamarkdown.ipynb\n",
      "ee56f35 HEAD@{25}: commit: Create markdowngit.ipynb\n",
      "1eb0c61 HEAD@{26}: commit: Delete practicamarkdown-checkpoint.ipynb\n",
      "060e9ce HEAD@{27}: commit: Create markdowngit-checkpoint.ipynb\n",
      "2dfc5eb HEAD@{28}: commit: Delete .gitattributes\n",
      "c917524 HEAD@{29}: reset: moving to HEAD\n",
      "c917524 HEAD@{30}: checkout: moving from cambios-de-mdonis to main\n",
      "d6d77a7 HEAD@{31}: checkout: moving from main to cambios-de-mdonis\n",
      "c917524 HEAD@{32}: reset: moving to HEAD\n",
      "c917524 HEAD@{33}: commit: Update practicamarkdown.ipynb\n",
      "af6d7eb HEAD@{34}: reset: moving to HEAD\n",
      "af6d7eb HEAD@{35}: commit: Update practicamarkdown.ipynb\n",
      "7859a10 HEAD@{36}: reset: moving to HEAD\n",
      "7859a10 HEAD@{37}: commit: Update practicamarkdown.ipynb\n",
      "6654c31 HEAD@{38}: checkout: moving from cambios-de-mdonis to main\n",
      "d6d77a7 HEAD@{39}: reset: moving to HEAD\n",
      "d6d77a7 HEAD@{40}: checkout: moving from main to cambios-de-mdonis\n",
      "6654c31 HEAD@{41}: checkout: moving from cambios-de-mdonis to main\n",
      "d6d77a7 HEAD@{42}: checkout: moving from main to cambios-de-mdonis\n",
      "6654c31 HEAD@{43}: checkout: moving from cambios-de-mdonis to main\n",
      "d6d77a7 HEAD@{44}: commit: Update practicamarkdown.ipynb\n",
      "3f42334 HEAD@{45}: commit: Update practicamarkdown-checkpoint.ipynb\n",
      "00b0a04 HEAD@{46}: commit: nuevos cambios\n",
      "927d920 HEAD@{47}: commit: Cambios a nuevo branch\n",
      "88fa981 HEAD@{48}: checkout: moving from main to cambios-de-mdonis\n",
      "88fa981 HEAD@{49}: commit: borrado de output\n",
      "50b321b HEAD@{50}: commit: ActualizaciÃ³n 2\n",
      "b5b6a87 HEAD@{51}: commit: ActualizaciÃ³n\n",
      "531a1f8 HEAD@{52}: commit: Update practicamarkdown-checkpoint.ipynb\n",
      "1520bd6 HEAD@{53}: commit: Update practicamarkdown.ipynb\n",
      "b3bbe73 HEAD@{54}: commit: Create practicamarkdown-checkpoint.ipynb\n",
      "ad3c987 HEAD@{55}: commit: Create practicamarkdown.ipynb\n",
      "c063a2f HEAD@{56}: commit (initial): Initial commit\n",
      "\n",
      "(base) C:\\Users\\mdonis\\Documents\\Maestría Data Science\\Ciencia de Datos en Python\\lec2\\tarea_markdown_jupiter_git>"
     ]
    }
   ],
   "source": [
    "%%cmd\n",
    "git reflog"
   ]
  },
  {
   "cell_type": "code",
   "execution_count": null,
   "metadata": {},
   "outputs": [],
   "source": []
  },
  {
   "cell_type": "markdown",
   "metadata": {},
   "source": [
    "## Subtítulo"
   ]
  },
  {
   "cell_type": "code",
   "execution_count": 1,
   "metadata": {},
   "outputs": [
    {
     "name": "stdout",
     "output_type": "stream",
     "text": [
      "Microsoft Windows [Versión 10.0.18362.295]\n",
      "(c) 2019 Microsoft Corporation. Todos los derechos reservados.\n",
      "\n",
      "(base) C:\\Users\\mdonis\\Documents\\Maestría Data Science\\Ciencia de Datos en Python\\lec2\\tarea_markdown_jupiter_git>git commit\n",
      "\n",
      "(base) C:\\Users\\mdonis\\Documents\\Maestría Data Science\\Ciencia de Datos en Python\\lec2\\tarea_markdown_jupiter_git>"
     ]
    },
    {
     "name": "stderr",
     "output_type": "stream",
     "text": [
      "fatal: Unable to create 'C:/Users/mdonis/Documents/MaestrÃ­a Data Science/Ciencia de Datos en Python/lec2/tarea_markdown_jupiter_git/.git/index.lock': File exists.\n",
      "\n",
      "Another git process seems to be running in this repository, e.g.\n",
      "an editor opened by 'git commit'. Please make sure all processes\n",
      "are terminated then try again. If it still fails, a git process\n",
      "may have crashed in this repository earlier:\n",
      "remove the file manually to continue.\n"
     ]
    }
   ],
   "source": [
    "%%cmd\n",
    "git commit"
   ]
  },
  {
   "cell_type": "code",
   "execution_count": 3,
   "metadata": {},
   "outputs": [
    {
     "name": "stdout",
     "output_type": "stream",
     "text": [
      "Microsoft Windows [Versión 10.0.18362.295]\n",
      "(c) 2019 Microsoft Corporation. Todos los derechos reservados.\n",
      "\n",
      "(base) C:\\Users\\mdonis\\Documents\\Maestría Data Science\\Ciencia de Datos en Python\\lec2\\tarea_markdown_jupiter_git>git stash\n",
      "\n",
      "(base) C:\\Users\\mdonis\\Documents\\Maestría Data Science\\Ciencia de Datos en Python\\lec2\\tarea_markdown_jupiter_git>"
     ]
    }
   ],
   "source": [
    "%%cmd\n",
    "git stash"
   ]
  },
  {
   "cell_type": "code",
   "execution_count": 4,
   "metadata": {},
   "outputs": [
    {
     "name": "stdout",
     "output_type": "stream",
     "text": [
      "Microsoft Windows [Versión 10.0.18362.295]\n",
      "(c) 2019 Microsoft Corporation. Todos los derechos reservados.\n",
      "\n",
      "(base) C:\\Users\\mdonis\\Documents\\Maestría Data Science\\Ciencia de Datos en Python\\lec2\\tarea_markdown_jupiter_git>git checkout main\n",
      "\n",
      "(base) C:\\Users\\mdonis\\Documents\\Maestría Data Science\\Ciencia de Datos en Python\\lec2\\tarea_markdown_jupiter_git>git fetch origin main\n",
      "\n",
      "(base) C:\\Users\\mdonis\\Documents\\Maestría Data Science\\Ciencia de Datos en Python\\lec2\\tarea_markdown_jupiter_git>git stash\n",
      "\n",
      "(base) C:\\Users\\mdonis\\Documents\\Maestría Data Science\\Ciencia de Datos en Python\\lec2\\tarea_markdown_jupiter_git>"
     ]
    },
    {
     "name": "stderr",
     "output_type": "stream",
     "text": [
      "fatal: Unable to create 'C:/Users/mdonis/Documents/MaestrÃ­a Data Science/Ciencia de Datos en Python/lec2/tarea_markdown_jupiter_git/.git/index.lock': File exists.\n",
      "\n",
      "Another git process seems to be running in this repository, e.g.\n",
      "an editor opened by 'git commit'. Please make sure all processes\n",
      "are terminated then try again. If it still fails, a git process\n",
      "may have crashed in this repository earlier:\n",
      "remove the file manually to continue.\n",
      "From https://github.com/mdonis/tarea_markdown_jupiter_git\n",
      " * branch            main       -> FETCH_HEAD\n"
     ]
    }
   ],
   "source": [
    "%%cmd\n",
    "git checkout main\n",
    "git fetch origin main\n",
    "git stash"
   ]
  },
  {
   "cell_type": "markdown",
   "metadata": {},
   "source": [
    "## Publicar cambios al repositorio remoto"
   ]
  },
  {
   "cell_type": "code",
   "execution_count": 5,
   "metadata": {},
   "outputs": [
    {
     "name": "stdout",
     "output_type": "stream",
     "text": [
      "Microsoft Windows [Versión 10.0.18362.295]\n",
      "(c) 2019 Microsoft Corporation. Todos los derechos reservados.\n",
      "\n",
      "(base) C:\\Users\\mdonis\\Documents\\Maestría Data Science\\Ciencia de Datos en Python\\lec2\\tarea_markdown_jupiter_git>git push origin main\n",
      "\n",
      "(base) C:\\Users\\mdonis\\Documents\\Maestría Data Science\\Ciencia de Datos en Python\\lec2\\tarea_markdown_jupiter_git>"
     ]
    },
    {
     "name": "stderr",
     "output_type": "stream",
     "text": [
      "Everything up-to-date\n"
     ]
    }
   ],
   "source": [
    "%%cmd\n",
    "git push origin main"
   ]
  },
  {
   "cell_type": "code",
   "execution_count": 6,
   "metadata": {},
   "outputs": [
    {
     "name": "stdout",
     "output_type": "stream",
     "text": [
      "Microsoft Windows [Versión 10.0.18362.295]\n",
      "(c) 2019 Microsoft Corporation. Todos los derechos reservados.\n",
      "\n",
      "(base) C:\\Users\\mdonis\\Documents\\Maestría Data Science\\Ciencia de Datos en Python\\lec2\\tarea_markdown_jupiter_git>git status\n",
      "On branch main\n",
      "Your branch is up to date with 'origin/main'.\n",
      "\n",
      "No commands done.\n",
      "Next command to do (1 remaining command):\n",
      "   noop\n",
      "  (use \"git rebase --edit-todo\" to view and edit)\n",
      "You are currently editing a commit while rebasing branch 'main' on 'ea3b7a5'.\n",
      "  (use \"git commit --amend\" to amend the current commit)\n",
      "  (use \"git rebase --continue\" once you are satisfied with your changes)\n",
      "\n",
      "Changes not staged for commit:\n",
      "  (use \"git add <file>...\" to update what will be committed)\n",
      "  (use \"git restore <file>...\" to discard changes in working directory)\n",
      "\tmodified:   .ipynb_checkpoints/markdowngit-checkpoint.ipynb\n",
      "\tmodified:   markdowngit.ipynb\n",
      "\n",
      "no changes added to commit (use \"git add\" and/or \"git commit -a\")\n",
      "\n",
      "(base) C:\\Users\\mdonis\\Documents\\Maestría Data Science\\Ciencia de Datos en Python\\lec2\\tarea_markdown_jupiter_git>"
     ]
    }
   ],
   "source": [
    "%%cmd\n",
    "git status"
   ]
  },
  {
   "cell_type": "code",
   "execution_count": 13,
   "metadata": {},
   "outputs": [
    {
     "name": "stdout",
     "output_type": "stream",
     "text": [
      "Microsoft Windows [Versión 10.0.18362.295]\n",
      "(c) 2019 Microsoft Corporation. Todos los derechos reservados.\n",
      "\n",
      "(base) C:\\Users\\mdonis\\Documents\\Maestría Data Science\\Ciencia de Datos en Python\\lec2\\tarea_markdown_jupiter_git>git push origin main\n",
      "\n",
      "(base) C:\\Users\\mdonis\\Documents\\Maestría Data Science\\Ciencia de Datos en Python\\lec2\\tarea_markdown_jupiter_git>"
     ]
    },
    {
     "name": "stderr",
     "output_type": "stream",
     "text": [
      "Everything up-to-date\n"
     ]
    }
   ],
   "source": [
    "%%cmd\n",
    "git push origin main"
   ]
  },
  {
   "cell_type": "code",
   "execution_count": 14,
   "metadata": {},
   "outputs": [
    {
     "name": "stdout",
     "output_type": "stream",
     "text": [
      "Microsoft Windows [Versión 10.0.18362.295]\n",
      "(c) 2019 Microsoft Corporation. Todos los derechos reservados.\n",
      "\n",
      "(base) C:\\Users\\mdonis\\Documents\\Maestría Data Science\\Ciencia de Datos en Python\\lec2\\tarea_markdown_jupiter_git>git fetch              \n",
      "\n",
      "(base) C:\\Users\\mdonis\\Documents\\Maestría Data Science\\Ciencia de Datos en Python\\lec2\\tarea_markdown_jupiter_git>git tag base main   \n",
      "\n",
      "(base) C:\\Users\\mdonis\\Documents\\Maestría Data Science\\Ciencia de Datos en Python\\lec2\\tarea_markdown_jupiter_git>git rebase -i main   \n",
      "\n",
      "(base) C:\\Users\\mdonis\\Documents\\Maestría Data Science\\Ciencia de Datos en Python\\lec2\\tarea_markdown_jupiter_git>git push --force\n",
      "\n",
      "(base) C:\\Users\\mdonis\\Documents\\Maestría Data Science\\Ciencia de Datos en Python\\lec2\\tarea_markdown_jupiter_git>"
     ]
    },
    {
     "name": "stderr",
     "output_type": "stream",
     "text": [
      "fatal: It seems that there is already a rebase-merge directory, and\n",
      "I wonder if you are in the middle of another rebase.  If that is the\n",
      "case, please try\n",
      "\tgit rebase (--continue | --abort | --skip)\n",
      "If that is not the case, please\n",
      "\trm -fr \".git/rebase-merge\"\n",
      "and run me again.  I am stopping in case you still have something\n",
      "valuable there.\n",
      "\n",
      "Everything up-to-date\n"
     ]
    }
   ],
   "source": [
    "%%cmd\n",
    "git fetch              \n",
    "git tag base main   \n",
    "git rebase -i main   \n",
    "git push --force"
   ]
  },
  {
   "cell_type": "code",
   "execution_count": null,
   "metadata": {},
   "outputs": [],
   "source": []
  }
 ],
 "metadata": {
  "kernelspec": {
   "display_name": "Python 3",
   "language": "python",
   "name": "python3"
  },
  "language_info": {
   "codemirror_mode": {
    "name": "ipython",
    "version": 3
   },
   "file_extension": ".py",
   "mimetype": "text/x-python",
   "name": "python",
   "nbconvert_exporter": "python",
   "pygments_lexer": "ipython3",
   "version": "3.8.5"
  }
 },
 "nbformat": 4,
 "nbformat_minor": 4
}
