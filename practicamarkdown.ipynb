{
 "cells": [
  {
   "cell_type": "markdown",
   "metadata": {},
   "source": [
    "# Esto es una segunda prueba para ver el control de cambios de git"
   ]
  },
  {
   "cell_type": "markdown",
   "metadata": {},
   "source": [
    "## Subtítulo"
   ]
  },
  {
   "cell_type": "markdown",
   "metadata": {},
   "source": [
    "### Prueba de publicación de cambios"
   ]
  },
  {
   "cell_type": "markdown",
   "metadata": {},
   "source": [
    "#### Git es una herramienta que sirve para el control de versiones de archivos de código"
   ]
  },
  {
   "cell_type": "code",
   "execution_count": 3,
   "metadata": {},
   "outputs": [],
   "source": [
    "a = 5 + 3**2"
   ]
  },
  {
   "cell_type": "markdown",
   "metadata": {},
   "source": [
    "# Quiero que esto aparezca en un nuevo branch"
   ]
  },
  {
   "cell_type": "markdown",
   "metadata": {},
   "source": [
    "### Aceptaron los cambios, ahora quiero agregar estos otros"
   ]
  },
  {
   "cell_type": "markdown",
   "metadata": {},
   "source": [
    "# prueba de consola"
   ]
  },
  {
   "cell_type": "code",
   "execution_count": 4,
   "metadata": {},
   "outputs": [
    {
     "name": "stdout",
     "output_type": "stream",
     "text": [
      "Microsoft Windows [Versión 10.0.18362.295]\n",
      "(c) 2019 Microsoft Corporation. Todos los derechos reservados.\n",
      "\n",
      "(base) C:\\Users\\mdonis\\Documents\\Maestría Data Science\\Ciencia de Datos en Python\\lec2\\tarea_markdown_jupiter_git>git status\n",
      "On branch main\n",
      "Your branch and 'origin/main' have diverged,\n",
      "and have 1 and 4 different commits each, respectively.\n",
      "  (use \"git pull\" to merge the remote branch into yours)\n",
      "\n",
      "nothing to commit, working tree clean\n",
      "\n",
      "(base) C:\\Users\\mdonis\\Documents\\Maestría Data Science\\Ciencia de Datos en Python\\lec2\\tarea_markdown_jupiter_git>"
     ]
    }
   ],
   "source": [
    "%%cmd\n",
    "git status"
   ]
  },
  {
   "cell_type": "code",
   "execution_count": null,
   "metadata": {},
   "outputs": [],
   "source": []
  }
 ],
 "metadata": {
  "kernelspec": {
   "display_name": "Python 3",
   "language": "python",
   "name": "python3"
  },
  "language_info": {
   "codemirror_mode": {
    "name": "ipython",
    "version": 3
   },
   "file_extension": ".py",
   "mimetype": "text/x-python",
   "name": "python",
   "nbconvert_exporter": "python",
   "pygments_lexer": "ipython3",
   "version": "3.8.5"
  }
 },
 "nbformat": 4,
 "nbformat_minor": 4
}
