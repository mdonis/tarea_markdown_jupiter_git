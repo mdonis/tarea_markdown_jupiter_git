{
 "cells": [
  {
   "cell_type": "markdown",
   "metadata": {},
   "source": [
    "# Ensayo sobre el control de versiones en Git - Tarea -"
   ]
  },
  {
   "cell_type": "code",
   "execution_count": 20,
   "metadata": {},
   "outputs": [
    {
     "name": "stdout",
     "output_type": "stream",
     "text": [
      "Microsoft Windows [Versión 10.0.18362.295]\n",
      "(c) 2019 Microsoft Corporation. Todos los derechos reservados.\n",
      "\n",
      "(base) C:\\Users\\mdonis\\Documents\\Maestría Data Science\\Ciencia de Datos en Python\\lec2\\tarea_markdown_jupiter_git>git reflog\n",
      "b2081b1 HEAD@{0}: reset: moving to HEAD\n",
      "b2081b1 HEAD@{1}: reset: moving to HEAD\n",
      "b2081b1 HEAD@{2}: pull --progress origin: Merge made by the 'recursive' strategy.\n",
      "1db831c HEAD@{3}: reset: moving to HEAD\n",
      "1db831c HEAD@{4}: reset: moving to HEAD\n",
      "1db831c HEAD@{5}: commit: Delete practicamarkdown.ipynb\n",
      "ee56f35 HEAD@{6}: commit: Create markdowngit.ipynb\n",
      "1eb0c61 HEAD@{7}: commit: Delete practicamarkdown-checkpoint.ipynb\n",
      "060e9ce HEAD@{8}: commit: Create markdowngit-checkpoint.ipynb\n",
      "2dfc5eb HEAD@{9}: commit: Delete .gitattributes\n",
      "c917524 HEAD@{10}: reset: moving to HEAD\n",
      "c917524 HEAD@{11}: checkout: moving from cambios-de-mdonis to main\n",
      "d6d77a7 HEAD@{12}: checkout: moving from main to cambios-de-mdonis\n",
      "c917524 HEAD@{13}: reset: moving to HEAD\n",
      "c917524 HEAD@{14}: commit: Update practicamarkdown.ipynb\n",
      "af6d7eb HEAD@{15}: reset: moving to HEAD\n",
      "af6d7eb HEAD@{16}: commit: Update practicamarkdown.ipynb\n",
      "7859a10 HEAD@{17}: reset: moving to HEAD\n",
      "7859a10 HEAD@{18}: commit: Update practicamarkdown.ipynb\n",
      "6654c31 HEAD@{19}: checkout: moving from cambios-de-mdonis to main\n",
      "d6d77a7 HEAD@{20}: reset: moving to HEAD\n",
      "d6d77a7 HEAD@{21}: checkout: moving from main to cambios-de-mdonis\n",
      "6654c31 HEAD@{22}: checkout: moving from cambios-de-mdonis to main\n",
      "d6d77a7 HEAD@{23}: checkout: moving from main to cambios-de-mdonis\n",
      "6654c31 HEAD@{24}: checkout: moving from cambios-de-mdonis to main\n",
      "d6d77a7 HEAD@{25}: commit: Update practicamarkdown.ipynb\n",
      "3f42334 HEAD@{26}: commit: Update practicamarkdown-checkpoint.ipynb\n",
      "00b0a04 HEAD@{27}: commit: nuevos cambios\n",
      "927d920 HEAD@{28}: commit: Cambios a nuevo branch\n",
      "88fa981 HEAD@{29}: checkout: moving from main to cambios-de-mdonis\n",
      "88fa981 HEAD@{30}: commit: borrado de output\n",
      "50b321b HEAD@{31}: commit: ActualizaciÃ³n 2\n",
      "b5b6a87 HEAD@{32}: commit: ActualizaciÃ³n\n",
      "531a1f8 HEAD@{33}: commit: Update practicamarkdown-checkpoint.ipynb\n",
      "1520bd6 HEAD@{34}: commit: Update practicamarkdown.ipynb\n",
      "b3bbe73 HEAD@{35}: commit: Create practicamarkdown-checkpoint.ipynb\n",
      "ad3c987 HEAD@{36}: commit: Create practicamarkdown.ipynb\n",
      "c063a2f HEAD@{37}: commit (initial): Initial commit\n",
      "\n",
      "(base) C:\\Users\\mdonis\\Documents\\Maestría Data Science\\Ciencia de Datos en Python\\lec2\\tarea_markdown_jupiter_git>"
     ]
    }
   ],
   "source": [
    "%%cmd\n",
    "git reflog"
   ]
  },
  {
   "cell_type": "markdown",
   "metadata": {},
   "source": [
    "## Subtítulo"
   ]
  },
  {
   "cell_type": "code",
   "execution_count": 22,
   "metadata": {},
   "outputs": [
    {
     "name": "stdout",
     "output_type": "stream",
     "text": [
      "Microsoft Windows [Versión 10.0.18362.295]\n",
      "(c) 2019 Microsoft Corporation. Todos los derechos reservados.\n",
      "\n",
      "(base) C:\\Users\\mdonis\\Documents\\Maestría Data Science\\Ciencia de Datos en Python\\lec2\\tarea_markdown_jupiter_git>git pull\n",
      "Already up to date.\n",
      "\n",
      "(base) C:\\Users\\mdonis\\Documents\\Maestría Data Science\\Ciencia de Datos en Python\\lec2\\tarea_markdown_jupiter_git>"
     ]
    }
   ],
   "source": [
    "%%cmd\n",
    "git pull"
   ]
  },
  {
   "cell_type": "code",
   "execution_count": 1,
   "metadata": {},
   "outputs": [
    {
     "name": "stdout",
     "output_type": "stream",
     "text": [
      "Microsoft Windows [Versión 10.0.18362.295]\n",
      "(c) 2019 Microsoft Corporation. Todos los derechos reservados.\n",
      "\n",
      "(base) C:\\Users\\mdonis\\Documents\\Maestría Data Science\\Ciencia de Datos en Python\\lec2\\tarea_markdown_jupiter_git>git stash\n",
      "Saved working directory and index state WIP on main: ea3b7a5 Update markdowngit-checkpoint.ipynb\n",
      "\n",
      "(base) C:\\Users\\mdonis\\Documents\\Maestría Data Science\\Ciencia de Datos en Python\\lec2\\tarea_markdown_jupiter_git>"
     ]
    },
    {
     "name": "stderr",
     "output_type": "stream",
     "text": [
      "warning: LF will be replaced by CRLF in .ipynb_checkpoints/markdowngit-checkpoint.ipynb.\n",
      "The file will have its original line endings in your working directory\n",
      "warning: LF will be replaced by CRLF in markdowngit.ipynb.\n",
      "The file will have its original line endings in your working directory\n"
     ]
    }
   ],
   "source": [
    "%%cmd\n",
    "git stash"
   ]
  },
  {
   "cell_type": "code",
   "execution_count": 3,
   "metadata": {},
   "outputs": [
    {
     "name": "stdout",
     "output_type": "stream",
     "text": [
      "Microsoft Windows [Versión 10.0.18362.295]\n",
      "(c) 2019 Microsoft Corporation. Todos los derechos reservados.\n",
      "\n",
      "(base) C:\\Users\\mdonis\\Documents\\Maestría Data Science\\Ciencia de Datos en Python\\lec2\\tarea_markdown_jupiter_git>git checkout main\n",
      "M\t.ipynb_checkpoints/markdowngit-checkpoint.ipynb\n",
      "M\tmarkdowngit.ipynb\n",
      "Your branch is up to date with 'origin/main'.\n",
      "\n",
      "(base) C:\\Users\\mdonis\\Documents\\Maestría Data Science\\Ciencia de Datos en Python\\lec2\\tarea_markdown_jupiter_git>git fetch origin main\n",
      "\n",
      "(base) C:\\Users\\mdonis\\Documents\\Maestría Data Science\\Ciencia de Datos en Python\\lec2\\tarea_markdown_jupiter_git>git stash\n",
      "Saved working directory and index state WIP on main: ea3b7a5 Update markdowngit-checkpoint.ipynb\n",
      "\n",
      "(base) C:\\Users\\mdonis\\Documents\\Maestría Data Science\\Ciencia de Datos en Python\\lec2\\tarea_markdown_jupiter_git>"
     ]
    },
    {
     "name": "stderr",
     "output_type": "stream",
     "text": [
      "Already on 'main'\n",
      "From https://github.com/mdonis/tarea_markdown_jupiter_git\n",
      " * branch            main       -> FETCH_HEAD\n",
      "warning: LF will be replaced by CRLF in .ipynb_checkpoints/markdowngit-checkpoint.ipynb.\n",
      "The file will have its original line endings in your working directory\n",
      "warning: LF will be replaced by CRLF in markdowngit.ipynb.\n",
      "The file will have its original line endings in your working directory\n"
     ]
    }
   ],
   "source": [
    "%%cmd\n",
    "git checkout main\n",
    "git fetch origin main\n",
    "git stash\n"
   ]
  },
  {
   "cell_type": "code",
   "execution_count": 5,
   "metadata": {},
   "outputs": [
    {
     "name": "stdout",
     "output_type": "stream",
     "text": [
      "Microsoft Windows [Versión 10.0.18362.295]\n",
      "(c) 2019 Microsoft Corporation. Todos los derechos reservados.\n",
      "\n",
      "(base) C:\\Users\\mdonis\\Documents\\Maestría Data Science\\Ciencia de Datos en Python\\lec2\\tarea_markdown_jupiter_git>git push origin\n",
      "\n",
      "(base) C:\\Users\\mdonis\\Documents\\Maestría Data Science\\Ciencia de Datos en Python\\lec2\\tarea_markdown_jupiter_git>#git rebase -i origin/main\n",
      "\n",
      "(base) C:\\Users\\mdonis\\Documents\\Maestría Data Science\\Ciencia de Datos en Python\\lec2\\tarea_markdown_jupiter_git># Squash commits, fix up commit messages etc.\n",
      "\n",
      "(base) C:\\Users\\mdonis\\Documents\\Maestría Data Science\\Ciencia de Datos en Python\\lec2\\tarea_markdown_jupiter_git>"
     ]
    },
    {
     "name": "stderr",
     "output_type": "stream",
     "text": [
      "Everything up-to-date\n",
      "\"#git\" no se reconoce como un comando interno o externo,\n",
      "programa o archivo por lotes ejecutable.\n",
      "\"#\" no se reconoce como un comando interno o externo,\n",
      "programa o archivo por lotes ejecutable.\n"
     ]
    }
   ],
   "source": [
    "%%cmd\n",
    "git push origin\n",
    "#git rebase -i origin/main\n",
    "# Squash commits, fix up commit messages etc.\n"
   ]
  },
  {
   "cell_type": "code",
   "execution_count": null,
   "metadata": {},
   "outputs": [],
   "source": []
  }
 ],
 "metadata": {
  "kernelspec": {
   "display_name": "Python 3",
   "language": "python",
   "name": "python3"
  },
  "language_info": {
   "codemirror_mode": {
    "name": "ipython",
    "version": 3
   },
   "file_extension": ".py",
   "mimetype": "text/x-python",
   "name": "python",
   "nbconvert_exporter": "python",
   "pygments_lexer": "ipython3",
   "version": "3.8.5"
  }
 },
 "nbformat": 4,
 "nbformat_minor": 4
}
